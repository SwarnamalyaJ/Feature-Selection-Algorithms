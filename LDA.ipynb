{
 "cells": [
  {
   "cell_type": "code",
   "execution_count": 1,
   "id": "e619b659-d7f0-407f-baf6-e86088584511",
   "metadata": {},
   "outputs": [],
   "source": [
    "import pandas as pd\n",
    "from sklearn.model_selection import train_test_split\n",
    "from sklearn.preprocessing import StandardScaler\n",
    "from sklearn.decomposition import PCA\n",
    "from sklearn.linear_model import LogisticRegression\n",
    "from sklearn.svm import SVC\n",
    "from sklearn.neighbors import KNeighborsClassifier\n",
    "from sklearn.naive_bayes import GaussianNB\n",
    "from sklearn.tree import DecisionTreeClassifier\n",
    "from sklearn.ensemble import RandomForestClassifier\n",
    "from sklearn.discriminant_analysis import LinearDiscriminantAnalysis\n",
    "from sklearn.metrics import accuracy_score"
   ]
  },
  {
   "cell_type": "code",
   "execution_count": 2,
   "id": "ee254449-6eb6-41cd-8205-b393e4cade92",
   "metadata": {},
   "outputs": [],
   "source": [
    "# Applying LDA\n",
    "def apply_lda(X, y, n_components):\n",
    "    lda = LinearDiscriminantAnalysis(n_components=n_components)\n",
    "    X_lda = lda.fit_transform(X, y)\n",
    "    return X_lda\n"
   ]
  },
  {
   "cell_type": "code",
   "execution_count": 3,
   "id": "2577b398-e158-423b-af12-b559fe0c1813",
   "metadata": {},
   "outputs": [],
   "source": [
    "# Function to split and scale data\n",
    "def split_scalar(X, y):\n",
    "    X_train, X_test, y_train, y_test = train_test_split(X, y, test_size=0.25, random_state=42)\n",
    "    scaler = StandardScaler()\n",
    "    X_train = scaler.fit_transform(X_train)\n",
    "    X_test = scaler.transform(X_test)\n",
    "    return X_train, X_test, y_train, y_test"
   ]
  },
  {
   "cell_type": "code",
   "execution_count": 4,
   "id": "184147da-8392-4cfa-832d-e19e28112ff2",
   "metadata": {},
   "outputs": [],
   "source": [
    "# Function to train and evaluate Logistic Regression\n",
    "def logistic(X_train, y_train, X_test, y_test):\n",
    "    model = LogisticRegression(random_state=42)\n",
    "    model.fit(X_train, y_train)\n",
    "    y_pred = model.predict(X_test)\n",
    "    return model, accuracy_score(y_test, y_pred)"
   ]
  },
  {
   "cell_type": "code",
   "execution_count": 5,
   "id": "cd2c57c6-d45d-454d-99e9-04258435db07",
   "metadata": {},
   "outputs": [],
   "source": [
    "# Function to train and evaluate Linear SVM\n",
    "def svm_linear(X_train, y_train, X_test, y_test):\n",
    "    model = SVC(kernel='linear', random_state=42)\n",
    "    model.fit(X_train, y_train)\n",
    "    y_pred = model.predict(X_test)\n",
    "    return model, accuracy_score(y_test, y_pred)"
   ]
  },
  {
   "cell_type": "code",
   "execution_count": 6,
   "id": "c5121078-0690-421c-a391-197b194a9573",
   "metadata": {},
   "outputs": [],
   "source": [
    "# Function to train and evaluate Non-Linear SVM\n",
    "def svm_nl(X_train, y_train, X_test, y_test):\n",
    "    model = SVC(kernel='rbf', random_state=42)\n",
    "    model.fit(X_train, y_train)\n",
    "    y_pred = model.predict(X_test)\n",
    "    return model, accuracy_score(y_test, y_pred)"
   ]
  },
  {
   "cell_type": "code",
   "execution_count": 7,
   "id": "9e2219db-0752-4d29-8cfe-b3efecc57df4",
   "metadata": {},
   "outputs": [],
   "source": [
    "# Function to train and evaluate KNN\n",
    "def knn(X_train, y_train, X_test, y_test):\n",
    "    model = KNeighborsClassifier()\n",
    "    model.fit(X_train, y_train)\n",
    "    y_pred = model.predict(X_test)\n",
    "    return model, accuracy_score(y_test, y_pred)"
   ]
  },
  {
   "cell_type": "code",
   "execution_count": 8,
   "id": "f1e18955-9f28-44f3-a5c7-9164b01e7786",
   "metadata": {},
   "outputs": [],
   "source": [
    "# Function to train and evaluate Naive Bayes\n",
    "def naive_bayes(X_train, y_train, X_test, y_test):\n",
    "    model = GaussianNB()\n",
    "    model.fit(X_train, y_train)\n",
    "    y_pred = model.predict(X_test)\n",
    "    return model, accuracy_score(y_test, y_pred)"
   ]
  },
  {
   "cell_type": "code",
   "execution_count": 9,
   "id": "1cbee5bc-8088-44d6-bf9d-42211a674cdb",
   "metadata": {},
   "outputs": [],
   "source": [
    "# Function to train and evaluate Decision Tree\n",
    "def decision_tree(X_train, y_train, X_test, y_test):\n",
    "    model = DecisionTreeClassifier(random_state=42)\n",
    "    model.fit(X_train, y_train)\n",
    "    y_pred = model.predict(X_test)\n",
    "    return model, accuracy_score(y_test, y_pred)"
   ]
  },
  {
   "cell_type": "code",
   "execution_count": 10,
   "id": "438de1ed-5ad4-42d0-a9d4-d6773dcd7fa4",
   "metadata": {},
   "outputs": [],
   "source": [
    "# Function to train and evaluate Random Forest\n",
    "def random_forest(X_train, y_train, X_test, y_test):\n",
    "    model = RandomForestClassifier(random_state=42)\n",
    "    model.fit(X_train, y_train)\n",
    "    y_pred = model.predict(X_test)\n",
    "    return model, accuracy_score(y_test, y_pred)"
   ]
  },
  {
   "cell_type": "code",
   "execution_count": 11,
   "id": "c1c3b6d6-1d92-45d8-823a-aabd9a30711b",
   "metadata": {},
   "outputs": [],
   "source": [
    "# Function to compile results into a DataFrame\n",
    "def selectk_classification(acclog, accsvml, accsvmnl, accknn, accnav, accdes, accrf):\n",
    "    dataframe = pd.DataFrame(\n",
    "        data=[[acclog, accsvml, accsvmnl, accknn, accnav, accdes, accrf]],\n",
    "        columns=['Logistic', 'SVMl', 'SVMnl', 'KNN', 'Naive', 'Decision', 'Random'],\n",
    "        index=['LDA']\n",
    "    )\n",
    "    return dataframe"
   ]
  },
  {
   "cell_type": "code",
   "execution_count": 12,
   "id": "fdd31ab1-22f3-4869-a924-ab863691e504",
   "metadata": {},
   "outputs": [],
   "source": [
    "# Load the dataset\n",
    "dataset1 = pd.read_csv(\"Wine.csv\", index_col=None)\n",
    "\n",
    "# Correctly access the data\n",
    "X = dataset1.iloc[:, 0:13].values  # Independent variables\n",
    "y = dataset1.iloc[:, 13].values    # Dependent variable\n"
   ]
  },
  {
   "cell_type": "code",
   "execution_count": 13,
   "id": "83b6e5e1-6a09-4f26-894e-8537161ca1d6",
   "metadata": {},
   "outputs": [],
   "source": [
    "df2=dataset1\n",
    "df2 = pd.get_dummies(df2, drop_first=True)"
   ]
  },
  {
   "cell_type": "code",
   "execution_count": 14,
   "id": "c01f225e-120b-4f57-8681-c49b0f2d31db",
   "metadata": {},
   "outputs": [
    {
     "data": {
      "text/html": [
       "<div>\n",
       "<style scoped>\n",
       "    .dataframe tbody tr th:only-of-type {\n",
       "        vertical-align: middle;\n",
       "    }\n",
       "\n",
       "    .dataframe tbody tr th {\n",
       "        vertical-align: top;\n",
       "    }\n",
       "\n",
       "    .dataframe thead th {\n",
       "        text-align: right;\n",
       "    }\n",
       "</style>\n",
       "<table border=\"1\" class=\"dataframe\">\n",
       "  <thead>\n",
       "    <tr style=\"text-align: right;\">\n",
       "      <th></th>\n",
       "      <th>Alcohol</th>\n",
       "      <th>Malic_Acid</th>\n",
       "      <th>Ash</th>\n",
       "      <th>Ash_Alcanity</th>\n",
       "      <th>Magnesium</th>\n",
       "      <th>Total_Phenols</th>\n",
       "      <th>Flavanoids</th>\n",
       "      <th>Nonflavanoid_Phenols</th>\n",
       "      <th>Proanthocyanins</th>\n",
       "      <th>Color_Intensity</th>\n",
       "      <th>Hue</th>\n",
       "      <th>OD280</th>\n",
       "      <th>Proline</th>\n",
       "      <th>Customer_Segment</th>\n",
       "    </tr>\n",
       "  </thead>\n",
       "  <tbody>\n",
       "    <tr>\n",
       "      <th>0</th>\n",
       "      <td>14.23</td>\n",
       "      <td>1.71</td>\n",
       "      <td>2.43</td>\n",
       "      <td>15.6</td>\n",
       "      <td>127</td>\n",
       "      <td>2.80</td>\n",
       "      <td>3.06</td>\n",
       "      <td>0.28</td>\n",
       "      <td>2.29</td>\n",
       "      <td>5.64</td>\n",
       "      <td>1.04</td>\n",
       "      <td>3.92</td>\n",
       "      <td>1065</td>\n",
       "      <td>1</td>\n",
       "    </tr>\n",
       "    <tr>\n",
       "      <th>1</th>\n",
       "      <td>13.20</td>\n",
       "      <td>1.78</td>\n",
       "      <td>2.14</td>\n",
       "      <td>11.2</td>\n",
       "      <td>100</td>\n",
       "      <td>2.65</td>\n",
       "      <td>2.76</td>\n",
       "      <td>0.26</td>\n",
       "      <td>1.28</td>\n",
       "      <td>4.38</td>\n",
       "      <td>1.05</td>\n",
       "      <td>3.40</td>\n",
       "      <td>1050</td>\n",
       "      <td>1</td>\n",
       "    </tr>\n",
       "    <tr>\n",
       "      <th>2</th>\n",
       "      <td>13.16</td>\n",
       "      <td>2.36</td>\n",
       "      <td>2.67</td>\n",
       "      <td>18.6</td>\n",
       "      <td>101</td>\n",
       "      <td>2.80</td>\n",
       "      <td>3.24</td>\n",
       "      <td>0.30</td>\n",
       "      <td>2.81</td>\n",
       "      <td>5.68</td>\n",
       "      <td>1.03</td>\n",
       "      <td>3.17</td>\n",
       "      <td>1185</td>\n",
       "      <td>1</td>\n",
       "    </tr>\n",
       "    <tr>\n",
       "      <th>3</th>\n",
       "      <td>14.37</td>\n",
       "      <td>1.95</td>\n",
       "      <td>2.50</td>\n",
       "      <td>16.8</td>\n",
       "      <td>113</td>\n",
       "      <td>3.85</td>\n",
       "      <td>3.49</td>\n",
       "      <td>0.24</td>\n",
       "      <td>2.18</td>\n",
       "      <td>7.80</td>\n",
       "      <td>0.86</td>\n",
       "      <td>3.45</td>\n",
       "      <td>1480</td>\n",
       "      <td>1</td>\n",
       "    </tr>\n",
       "    <tr>\n",
       "      <th>4</th>\n",
       "      <td>13.24</td>\n",
       "      <td>2.59</td>\n",
       "      <td>2.87</td>\n",
       "      <td>21.0</td>\n",
       "      <td>118</td>\n",
       "      <td>2.80</td>\n",
       "      <td>2.69</td>\n",
       "      <td>0.39</td>\n",
       "      <td>1.82</td>\n",
       "      <td>4.32</td>\n",
       "      <td>1.04</td>\n",
       "      <td>2.93</td>\n",
       "      <td>735</td>\n",
       "      <td>1</td>\n",
       "    </tr>\n",
       "    <tr>\n",
       "      <th>...</th>\n",
       "      <td>...</td>\n",
       "      <td>...</td>\n",
       "      <td>...</td>\n",
       "      <td>...</td>\n",
       "      <td>...</td>\n",
       "      <td>...</td>\n",
       "      <td>...</td>\n",
       "      <td>...</td>\n",
       "      <td>...</td>\n",
       "      <td>...</td>\n",
       "      <td>...</td>\n",
       "      <td>...</td>\n",
       "      <td>...</td>\n",
       "      <td>...</td>\n",
       "    </tr>\n",
       "    <tr>\n",
       "      <th>173</th>\n",
       "      <td>13.71</td>\n",
       "      <td>5.65</td>\n",
       "      <td>2.45</td>\n",
       "      <td>20.5</td>\n",
       "      <td>95</td>\n",
       "      <td>1.68</td>\n",
       "      <td>0.61</td>\n",
       "      <td>0.52</td>\n",
       "      <td>1.06</td>\n",
       "      <td>7.70</td>\n",
       "      <td>0.64</td>\n",
       "      <td>1.74</td>\n",
       "      <td>740</td>\n",
       "      <td>3</td>\n",
       "    </tr>\n",
       "    <tr>\n",
       "      <th>174</th>\n",
       "      <td>13.40</td>\n",
       "      <td>3.91</td>\n",
       "      <td>2.48</td>\n",
       "      <td>23.0</td>\n",
       "      <td>102</td>\n",
       "      <td>1.80</td>\n",
       "      <td>0.75</td>\n",
       "      <td>0.43</td>\n",
       "      <td>1.41</td>\n",
       "      <td>7.30</td>\n",
       "      <td>0.70</td>\n",
       "      <td>1.56</td>\n",
       "      <td>750</td>\n",
       "      <td>3</td>\n",
       "    </tr>\n",
       "    <tr>\n",
       "      <th>175</th>\n",
       "      <td>13.27</td>\n",
       "      <td>4.28</td>\n",
       "      <td>2.26</td>\n",
       "      <td>20.0</td>\n",
       "      <td>120</td>\n",
       "      <td>1.59</td>\n",
       "      <td>0.69</td>\n",
       "      <td>0.43</td>\n",
       "      <td>1.35</td>\n",
       "      <td>10.20</td>\n",
       "      <td>0.59</td>\n",
       "      <td>1.56</td>\n",
       "      <td>835</td>\n",
       "      <td>3</td>\n",
       "    </tr>\n",
       "    <tr>\n",
       "      <th>176</th>\n",
       "      <td>13.17</td>\n",
       "      <td>2.59</td>\n",
       "      <td>2.37</td>\n",
       "      <td>20.0</td>\n",
       "      <td>120</td>\n",
       "      <td>1.65</td>\n",
       "      <td>0.68</td>\n",
       "      <td>0.53</td>\n",
       "      <td>1.46</td>\n",
       "      <td>9.30</td>\n",
       "      <td>0.60</td>\n",
       "      <td>1.62</td>\n",
       "      <td>840</td>\n",
       "      <td>3</td>\n",
       "    </tr>\n",
       "    <tr>\n",
       "      <th>177</th>\n",
       "      <td>14.13</td>\n",
       "      <td>4.10</td>\n",
       "      <td>2.74</td>\n",
       "      <td>24.5</td>\n",
       "      <td>96</td>\n",
       "      <td>2.05</td>\n",
       "      <td>0.76</td>\n",
       "      <td>0.56</td>\n",
       "      <td>1.35</td>\n",
       "      <td>9.20</td>\n",
       "      <td>0.61</td>\n",
       "      <td>1.60</td>\n",
       "      <td>560</td>\n",
       "      <td>3</td>\n",
       "    </tr>\n",
       "  </tbody>\n",
       "</table>\n",
       "<p>178 rows × 14 columns</p>\n",
       "</div>"
      ],
      "text/plain": [
       "     Alcohol  Malic_Acid   Ash  Ash_Alcanity  Magnesium  Total_Phenols  \\\n",
       "0      14.23        1.71  2.43          15.6        127           2.80   \n",
       "1      13.20        1.78  2.14          11.2        100           2.65   \n",
       "2      13.16        2.36  2.67          18.6        101           2.80   \n",
       "3      14.37        1.95  2.50          16.8        113           3.85   \n",
       "4      13.24        2.59  2.87          21.0        118           2.80   \n",
       "..       ...         ...   ...           ...        ...            ...   \n",
       "173    13.71        5.65  2.45          20.5         95           1.68   \n",
       "174    13.40        3.91  2.48          23.0        102           1.80   \n",
       "175    13.27        4.28  2.26          20.0        120           1.59   \n",
       "176    13.17        2.59  2.37          20.0        120           1.65   \n",
       "177    14.13        4.10  2.74          24.5         96           2.05   \n",
       "\n",
       "     Flavanoids  Nonflavanoid_Phenols  Proanthocyanins  Color_Intensity   Hue  \\\n",
       "0          3.06                  0.28             2.29             5.64  1.04   \n",
       "1          2.76                  0.26             1.28             4.38  1.05   \n",
       "2          3.24                  0.30             2.81             5.68  1.03   \n",
       "3          3.49                  0.24             2.18             7.80  0.86   \n",
       "4          2.69                  0.39             1.82             4.32  1.04   \n",
       "..          ...                   ...              ...              ...   ...   \n",
       "173        0.61                  0.52             1.06             7.70  0.64   \n",
       "174        0.75                  0.43             1.41             7.30  0.70   \n",
       "175        0.69                  0.43             1.35            10.20  0.59   \n",
       "176        0.68                  0.53             1.46             9.30  0.60   \n",
       "177        0.76                  0.56             1.35             9.20  0.61   \n",
       "\n",
       "     OD280  Proline  Customer_Segment  \n",
       "0     3.92     1065                 1  \n",
       "1     3.40     1050                 1  \n",
       "2     3.17     1185                 1  \n",
       "3     3.45     1480                 1  \n",
       "4     2.93      735                 1  \n",
       "..     ...      ...               ...  \n",
       "173   1.74      740                 3  \n",
       "174   1.56      750                 3  \n",
       "175   1.56      835                 3  \n",
       "176   1.62      840                 3  \n",
       "177   1.60      560                 3  \n",
       "\n",
       "[178 rows x 14 columns]"
      ]
     },
     "execution_count": 14,
     "metadata": {},
     "output_type": "execute_result"
    }
   ],
   "source": [
    "df2"
   ]
  },
  {
   "cell_type": "code",
   "execution_count": 15,
   "id": "5f9e9629-5c61-4fcf-86ea-c1d33153c2b4",
   "metadata": {},
   "outputs": [
    {
     "name": "stdout",
     "output_type": "stream",
     "text": [
      "Shape of independent variables before LDA: (178, 13)\n"
     ]
    }
   ],
   "source": [
    "# Check shape before applying PCA\n",
    "print(f\"Shape of independent variables before LDA: {X.shape}\")"
   ]
  },
  {
   "cell_type": "code",
   "execution_count": 17,
   "id": "89ad8bd3-d215-49cf-bddd-a1d81164960f",
   "metadata": {},
   "outputs": [],
   "source": [
    "# Apply LDA\n",
    "indep_x_lda = apply_lda(X, y, n_components=2)"
   ]
  },
  {
   "cell_type": "code",
   "execution_count": 18,
   "id": "9a22c1a0-6cf7-4bc6-be33-7730fa30563e",
   "metadata": {},
   "outputs": [
    {
     "data": {
      "text/plain": [
       "array([[-4.70024401,  1.97913835],\n",
       "       [-4.30195811,  1.17041286],\n",
       "       [-3.42071952,  1.42910139],\n",
       "       [-4.20575366,  4.00287148],\n",
       "       [-1.50998168,  0.4512239 ],\n",
       "       [-4.51868934,  3.21313756],\n",
       "       [-4.52737794,  3.26912179],\n",
       "       [-4.14834781,  3.10411765],\n",
       "       [-3.86082876,  1.95338263],\n",
       "       [-3.36662444,  1.67864327],\n",
       "       [-4.80587907,  2.23536271],\n",
       "       [-3.42807646,  2.17510939],\n",
       "       [-3.66610246,  2.26248961],\n",
       "       [-5.58824635,  2.05478773],\n",
       "       [-5.50131449,  3.61304865],\n",
       "       [-3.18475189,  2.88952528],\n",
       "       [-3.28936988,  2.76584266],\n",
       "       [-2.99809262,  1.42511132],\n",
       "       [-5.24640372,  3.70982655],\n",
       "       [-3.13653106,  1.97689922],\n",
       "       [-3.57747791,  0.5624599 ],\n",
       "       [-1.69077135,  0.91342136],\n",
       "       [-4.83515033,  0.9147628 ],\n",
       "       [-3.09588961,  0.61735888],\n",
       "       [-3.32164716,  0.29847734],\n",
       "       [-2.14482223,  0.16369247],\n",
       "       [-3.9824285 ,  2.17515679],\n",
       "       [-2.68591432,  1.21850924],\n",
       "       [-3.56309464,  1.03817651],\n",
       "       [-3.17301573,  1.37789624],\n",
       "       [-2.99626797,  1.32419896],\n",
       "       [-3.56866244,  2.34065478],\n",
       "       [-3.38506383,  0.20123426],\n",
       "       [-3.5275375 ,  1.71592739],\n",
       "       [-2.85190852,  1.47070771],\n",
       "       [-2.79411996,  0.23793093],\n",
       "       [-2.75808511,  1.56970421],\n",
       "       [-2.17734477,  1.01036455],\n",
       "       [-3.02926382, -0.23509583],\n",
       "       [-3.27105228,  2.6040459 ],\n",
       "       [-2.92065533,  0.25523343],\n",
       "       [-2.23721062,  0.91946116],\n",
       "       [-4.69972568,  2.56075339],\n",
       "       [-1.23036133,  0.42259515],\n",
       "       [-2.58203904, -0.35029195],\n",
       "       [-2.58312049,  2.87686572],\n",
       "       [-3.88887889,  2.05160408],\n",
       "       [-3.44975356,  0.95183917],\n",
       "       [-2.34223331,  1.4325895 ],\n",
       "       [-3.52062596,  2.08155356],\n",
       "       [-3.21840912,  0.8791287 ],\n",
       "       [-4.38214896,  2.16471573],\n",
       "       [-4.36311727,  2.27182928],\n",
       "       [-3.51917293,  3.00737373],\n",
       "       [-3.12277475,  1.59356669],\n",
       "       [-1.8024054 ,  1.33006156],\n",
       "       [-2.87378754,  1.72989942],\n",
       "       [-3.61690518,  2.29115753],\n",
       "       [-3.73868551,  2.46011803],\n",
       "       [ 1.58618749, -2.42384416],\n",
       "       [ 0.79967216, -1.39406461],\n",
       "       [ 2.38015446, -1.45188659],\n",
       "       [-0.45917726, -1.19045365],\n",
       "       [-0.50726885, -3.16662403],\n",
       "       [ 0.39398359, -2.7798417 ],\n",
       "       [-0.92256616, -1.38872368],\n",
       "       [-1.95549377, -2.69360629],\n",
       "       [-0.34732815, -2.59289903],\n",
       "       [ 0.20371212,  0.01962135],\n",
       "       [-0.24831914, -2.7561761 ],\n",
       "       [ 1.17987999, -0.90034277],\n",
       "       [-1.07718925, -1.82670118],\n",
       "       [ 0.64100179, -1.44531367],\n",
       "       [-1.74684421, -1.78455859],\n",
       "       [-0.34721117, -1.48810682],\n",
       "       [ 1.14274222, -3.089249  ],\n",
       "       [ 0.18665882, -2.67317096],\n",
       "       [ 0.900525  , -1.81942357],\n",
       "       [-0.70709551, -2.12304449],\n",
       "       [-0.59562833, -2.48962245],\n",
       "       [-0.55761818, -4.65303778],\n",
       "       [-1.80430417, -1.48714945],\n",
       "       [ 0.23077079, -2.84287547],\n",
       "       [ 2.03482711, -0.79032003],\n",
       "       [-0.62113021, -1.69689588],\n",
       "       [-1.03372742, -2.44143762],\n",
       "       [ 0.76598781, -3.44641402],\n",
       "       [ 0.35042568, -3.22935698],\n",
       "       [ 0.15324508, -2.11287767],\n",
       "       [-0.14962842, -2.9919321 ],\n",
       "       [ 0.48079504, -2.54002408],\n",
       "       [ 1.39689016, -2.54082291],\n",
       "       [ 0.91972331, -2.24859665],\n",
       "       [-0.59102937, -2.93845393],\n",
       "       [ 0.49411386, -2.93631076],\n",
       "       [-1.62614426, -2.02049545],\n",
       "       [ 2.00044562, -0.63448464],\n",
       "       [-1.00534818, -3.33112586],\n",
       "       [-2.07121314, -2.7144542 ],\n",
       "       [-1.6381589 , -3.87739654],\n",
       "       [-1.0589434 , -2.99987263],\n",
       "       [ 0.02594549, -2.35411388],\n",
       "       [-0.21887407, -1.64289601],\n",
       "       [ 1.3643764 , -3.81747174],\n",
       "       [-1.12901245, -2.32685245],\n",
       "       [-0.21263094, -2.99677582],\n",
       "       [-0.77946884, -2.47277392],\n",
       "       [ 0.61546732, -2.17823987],\n",
       "       [ 0.22550192, -3.79734159],\n",
       "       [-2.03869851, -2.18532522],\n",
       "       [ 0.79274716, -3.66157598],\n",
       "       [ 0.30229545, -2.79527873],\n",
       "       [-0.50664882, -1.09527341],\n",
       "       [ 0.99837397, -3.44598675],\n",
       "       [-0.21954922, -2.79759769],\n",
       "       [-0.37131517, -6.00561031],\n",
       "       [ 0.05545894, -3.4784697 ],\n",
       "       [-0.09137874, -3.61977733],\n",
       "       [ 1.79755252, -0.85012177],\n",
       "       [-0.17405009, -2.63224971],\n",
       "       [-1.17870281, -2.20519226],\n",
       "       [-3.2105439 , -2.90531169],\n",
       "       [ 0.62605202, -1.99570866],\n",
       "       [ 0.03366613, -1.38435976],\n",
       "       [-0.6993008 , -2.45943957],\n",
       "       [-0.72061079, -3.2466652 ],\n",
       "       [-0.51933512, -2.86969325],\n",
       "       [ 1.17030045, -3.31947864],\n",
       "       [ 0.10824791, -3.79876143],\n",
       "       [ 1.12319783, -1.28784815],\n",
       "       [ 2.24632419,  0.18734787],\n",
       "       [ 3.28527755,  0.69608625],\n",
       "       [ 4.07236441,  0.14425752],\n",
       "       [ 3.86691235,  0.53503357],\n",
       "       [ 3.45088333, -0.21734536],\n",
       "       [ 3.71583899,  0.5651013 ],\n",
       "       [ 3.9222051 ,  0.89352622],\n",
       "       [ 4.8516102 ,  0.31406852],\n",
       "       [ 3.54993389,  0.9159633 ],\n",
       "       [ 3.76889174,  0.22554113],\n",
       "       [ 2.6694225 ,  1.14109076],\n",
       "       [ 2.32491492,  1.9484833 ],\n",
       "       [ 3.17712883,  1.05985317],\n",
       "       [ 2.88964418,  1.15705922],\n",
       "       [ 3.78325562,  2.00739304],\n",
       "       [ 3.04411324,  0.9812437 ],\n",
       "       [ 4.70697017,  1.81778277],\n",
       "       [ 4.85021393,  2.20818213],\n",
       "       [ 4.98359184,  2.0349552 ],\n",
       "       [ 4.86968293,  1.80832861],\n",
       "       [ 4.5986919 ,  1.87224228],\n",
       "       [ 5.67447884,  1.82580271],\n",
       "       [ 5.32986123,  0.58218515],\n",
       "       [ 5.03401031,  2.27732076],\n",
       "       [ 4.52080087, -0.0067342 ],\n",
       "       [ 5.0978371 ,  2.0016203 ],\n",
       "       [ 5.04368277,  2.5119033 ],\n",
       "       [ 4.86980829,  1.09158074],\n",
       "       [ 5.61316558,  2.98439332],\n",
       "       [ 5.67046737,  2.27306996],\n",
       "       [ 5.37413513,  0.76247223],\n",
       "       [ 3.09975377,  1.94106484],\n",
       "       [ 3.35888137,  0.54868961],\n",
       "       [ 3.04007194,  1.45698898],\n",
       "       [ 4.94861303,  2.18992458],\n",
       "       [ 4.54504458,  1.21989845],\n",
       "       [ 5.27255844,  2.71623061],\n",
       "       [ 5.13016117,  2.29172536],\n",
       "       [ 4.30468082,  2.39112531],\n",
       "       [ 5.08336782,  3.15766665],\n",
       "       [ 4.06743571,  0.31892192],\n",
       "       [ 5.74212961,  1.46708165],\n",
       "       [ 4.4820514 ,  3.30708382],\n",
       "       [ 4.29150758,  3.39033191],\n",
       "       [ 4.50329623,  2.08354592],\n",
       "       [ 5.04747033,  3.19623136],\n",
       "       [ 4.27615505,  2.43138798],\n",
       "       [ 5.5380861 ,  3.04205709]])"
      ]
     },
     "execution_count": 18,
     "metadata": {},
     "output_type": "execute_result"
    }
   ],
   "source": [
    "indep_x_lda"
   ]
  },
  {
   "cell_type": "code",
   "execution_count": 19,
   "id": "2cdc063f-dd2d-44b9-9d9a-c4e68861d99a",
   "metadata": {},
   "outputs": [
    {
     "name": "stdout",
     "output_type": "stream",
     "text": [
      "Shape of independent variables after LDA: (178, 2)\n"
     ]
    }
   ],
   "source": [
    "# Check shape after applying LDA\n",
    "print(f\"Shape of independent variables after LDA: {indep_x_lda.shape}\")"
   ]
  },
  {
   "cell_type": "code",
   "execution_count": 21,
   "id": "d74144e6-59d9-4918-ae6e-aefd24cf32d0",
   "metadata": {},
   "outputs": [],
   "source": [
    "# Convert LDA results to a DataFrame for display\n",
    "lda_df = pd.DataFrame(indep_x_lda, columns=[\"LD1\", \"LD2\"])"
   ]
  },
  {
   "cell_type": "code",
   "execution_count": 22,
   "id": "0bef5d37-5f24-4e3d-9b96-26f1552e7aae",
   "metadata": {},
   "outputs": [
    {
     "data": {
      "text/html": [
       "<div>\n",
       "<style scoped>\n",
       "    .dataframe tbody tr th:only-of-type {\n",
       "        vertical-align: middle;\n",
       "    }\n",
       "\n",
       "    .dataframe tbody tr th {\n",
       "        vertical-align: top;\n",
       "    }\n",
       "\n",
       "    .dataframe thead th {\n",
       "        text-align: right;\n",
       "    }\n",
       "</style>\n",
       "<table border=\"1\" class=\"dataframe\">\n",
       "  <thead>\n",
       "    <tr style=\"text-align: right;\">\n",
       "      <th></th>\n",
       "      <th>LD1</th>\n",
       "      <th>LD2</th>\n",
       "    </tr>\n",
       "  </thead>\n",
       "  <tbody>\n",
       "    <tr>\n",
       "      <th>0</th>\n",
       "      <td>-4.700244</td>\n",
       "      <td>1.979138</td>\n",
       "    </tr>\n",
       "    <tr>\n",
       "      <th>1</th>\n",
       "      <td>-4.301958</td>\n",
       "      <td>1.170413</td>\n",
       "    </tr>\n",
       "    <tr>\n",
       "      <th>2</th>\n",
       "      <td>-3.420720</td>\n",
       "      <td>1.429101</td>\n",
       "    </tr>\n",
       "    <tr>\n",
       "      <th>3</th>\n",
       "      <td>-4.205754</td>\n",
       "      <td>4.002871</td>\n",
       "    </tr>\n",
       "    <tr>\n",
       "      <th>4</th>\n",
       "      <td>-1.509982</td>\n",
       "      <td>0.451224</td>\n",
       "    </tr>\n",
       "    <tr>\n",
       "      <th>...</th>\n",
       "      <td>...</td>\n",
       "      <td>...</td>\n",
       "    </tr>\n",
       "    <tr>\n",
       "      <th>173</th>\n",
       "      <td>4.291508</td>\n",
       "      <td>3.390332</td>\n",
       "    </tr>\n",
       "    <tr>\n",
       "      <th>174</th>\n",
       "      <td>4.503296</td>\n",
       "      <td>2.083546</td>\n",
       "    </tr>\n",
       "    <tr>\n",
       "      <th>175</th>\n",
       "      <td>5.047470</td>\n",
       "      <td>3.196231</td>\n",
       "    </tr>\n",
       "    <tr>\n",
       "      <th>176</th>\n",
       "      <td>4.276155</td>\n",
       "      <td>2.431388</td>\n",
       "    </tr>\n",
       "    <tr>\n",
       "      <th>177</th>\n",
       "      <td>5.538086</td>\n",
       "      <td>3.042057</td>\n",
       "    </tr>\n",
       "  </tbody>\n",
       "</table>\n",
       "<p>178 rows × 2 columns</p>\n",
       "</div>"
      ],
      "text/plain": [
       "          LD1       LD2\n",
       "0   -4.700244  1.979138\n",
       "1   -4.301958  1.170413\n",
       "2   -3.420720  1.429101\n",
       "3   -4.205754  4.002871\n",
       "4   -1.509982  0.451224\n",
       "..        ...       ...\n",
       "173  4.291508  3.390332\n",
       "174  4.503296  2.083546\n",
       "175  5.047470  3.196231\n",
       "176  4.276155  2.431388\n",
       "177  5.538086  3.042057\n",
       "\n",
       "[178 rows x 2 columns]"
      ]
     },
     "execution_count": 22,
     "metadata": {},
     "output_type": "execute_result"
    }
   ],
   "source": [
    "lda_df"
   ]
  },
  {
   "cell_type": "code",
   "execution_count": 23,
   "id": "293c1446-dfc9-4ee7-b1f0-be91417b3651",
   "metadata": {},
   "outputs": [],
   "source": [
    "# Split and scale data\n",
    "X_train, X_test, y_train, y_test = split_scalar(indep_x_lda, y)"
   ]
  },
  {
   "cell_type": "code",
   "execution_count": 24,
   "id": "806d441c-231c-439f-acb0-cd15307fde2f",
   "metadata": {},
   "outputs": [],
   "source": [
    "# Initialize accuracy lists\n",
    "acclog, accsvml, accsvmnl, accknn, accnav, accdes, accrf = [], [], [], [], [], [], []\n",
    "\n",
    "# Evaluate models and store accuracies\n",
    "_, accuracy = logistic(X_train, y_train, X_test, y_test)\n",
    "acclog.append(accuracy)\n",
    "\n",
    "_, accuracy = svm_linear(X_train, y_train, X_test, y_test)\n",
    "accsvml.append(accuracy)\n",
    "\n",
    "_, accuracy = svm_nl(X_train, y_train, X_test, y_test)\n",
    "accsvmnl.append(accuracy)\n",
    "\n",
    "_, accuracy = knn(X_train, y_train, X_test, y_test)\n",
    "accknn.append(accuracy)\n",
    "\n",
    "_, accuracy = naive_bayes(X_train, y_train, X_test, y_test)\n",
    "accnav.append(accuracy)\n",
    "\n",
    "_, accuracy = decision_tree(X_train, y_train, X_test, y_test)\n",
    "accdes.append(accuracy)\n",
    "\n",
    "_, accuracy = random_forest(X_train, y_train, X_test, y_test)\n",
    "accrf.append(accuracy)"
   ]
  },
  {
   "cell_type": "code",
   "execution_count": 25,
   "id": "035ef8fc-af56-4730-b207-6975aa6d834f",
   "metadata": {},
   "outputs": [
    {
     "data": {
      "text/plain": [
       "[1.0]"
      ]
     },
     "execution_count": 25,
     "metadata": {},
     "output_type": "execute_result"
    }
   ],
   "source": [
    "acclog"
   ]
  },
  {
   "cell_type": "code",
   "execution_count": 26,
   "id": "c93736d8-a81c-4dd1-9dfd-016b06b92e6d",
   "metadata": {},
   "outputs": [
    {
     "data": {
      "text/plain": [
       "[0.9777777777777777]"
      ]
     },
     "execution_count": 26,
     "metadata": {},
     "output_type": "execute_result"
    }
   ],
   "source": [
    "accsvml"
   ]
  },
  {
   "cell_type": "code",
   "execution_count": 27,
   "id": "a6e858e1-c6b4-4a74-ab00-06bcf16a1530",
   "metadata": {},
   "outputs": [
    {
     "data": {
      "text/plain": [
       "[1.0]"
      ]
     },
     "execution_count": 27,
     "metadata": {},
     "output_type": "execute_result"
    }
   ],
   "source": [
    "accsvmnl"
   ]
  },
  {
   "cell_type": "code",
   "execution_count": 28,
   "id": "f82a31b4-232d-4196-a579-b551b1d57c41",
   "metadata": {},
   "outputs": [
    {
     "data": {
      "text/plain": [
       "[1.0]"
      ]
     },
     "execution_count": 28,
     "metadata": {},
     "output_type": "execute_result"
    }
   ],
   "source": [
    "accknn\n"
   ]
  },
  {
   "cell_type": "code",
   "execution_count": 29,
   "id": "111c4bd5-1537-4ff2-ad1a-6baf1bf1f953",
   "metadata": {},
   "outputs": [
    {
     "data": {
      "text/plain": [
       "[1.0]"
      ]
     },
     "execution_count": 29,
     "metadata": {},
     "output_type": "execute_result"
    }
   ],
   "source": [
    "accnav"
   ]
  },
  {
   "cell_type": "code",
   "execution_count": 30,
   "id": "5a756539-7f13-4584-b220-85e19e7a8da5",
   "metadata": {},
   "outputs": [
    {
     "data": {
      "text/plain": [
       "[0.9777777777777777]"
      ]
     },
     "execution_count": 30,
     "metadata": {},
     "output_type": "execute_result"
    }
   ],
   "source": [
    "accdes"
   ]
  },
  {
   "cell_type": "code",
   "execution_count": 31,
   "id": "20787338-7033-431d-81f6-f6dd75a92775",
   "metadata": {},
   "outputs": [
    {
     "data": {
      "text/plain": [
       "[0.9777777777777777]"
      ]
     },
     "execution_count": 31,
     "metadata": {},
     "output_type": "execute_result"
    }
   ],
   "source": [
    " accrf"
   ]
  },
  {
   "cell_type": "code",
   "execution_count": 32,
   "id": "ad583685-6fcd-4846-b23d-cff0f6a60766",
   "metadata": {},
   "outputs": [],
   "source": [
    "# Compile results\n",
    "#Using -1 ensures that the most recent accuracy value (the last one added to the list) is used in the selectk_classification function.\n",
    "results = selectk_classification(acclog[-1], accsvml[-1], accsvmnl[-1], accknn[-1], accnav[-1], accdes[-1], accrf[-1])"
   ]
  },
  {
   "cell_type": "code",
   "execution_count": 33,
   "id": "f93be5dc-137d-4de0-8bb2-9a4d37e7d490",
   "metadata": {},
   "outputs": [
    {
     "data": {
      "text/html": [
       "<div>\n",
       "<style scoped>\n",
       "    .dataframe tbody tr th:only-of-type {\n",
       "        vertical-align: middle;\n",
       "    }\n",
       "\n",
       "    .dataframe tbody tr th {\n",
       "        vertical-align: top;\n",
       "    }\n",
       "\n",
       "    .dataframe thead th {\n",
       "        text-align: right;\n",
       "    }\n",
       "</style>\n",
       "<table border=\"1\" class=\"dataframe\">\n",
       "  <thead>\n",
       "    <tr style=\"text-align: right;\">\n",
       "      <th></th>\n",
       "      <th>Logistic</th>\n",
       "      <th>SVMl</th>\n",
       "      <th>SVMnl</th>\n",
       "      <th>KNN</th>\n",
       "      <th>Naive</th>\n",
       "      <th>Decision</th>\n",
       "      <th>Random</th>\n",
       "    </tr>\n",
       "  </thead>\n",
       "  <tbody>\n",
       "    <tr>\n",
       "      <th>LDA</th>\n",
       "      <td>1.0</td>\n",
       "      <td>0.977778</td>\n",
       "      <td>1.0</td>\n",
       "      <td>1.0</td>\n",
       "      <td>1.0</td>\n",
       "      <td>0.977778</td>\n",
       "      <td>0.977778</td>\n",
       "    </tr>\n",
       "  </tbody>\n",
       "</table>\n",
       "</div>"
      ],
      "text/plain": [
       "     Logistic      SVMl  SVMnl  KNN  Naive  Decision    Random\n",
       "LDA       1.0  0.977778    1.0  1.0    1.0  0.977778  0.977778"
      ]
     },
     "execution_count": 33,
     "metadata": {},
     "output_type": "execute_result"
    }
   ],
   "source": [
    "results"
   ]
  },
  {
   "cell_type": "code",
   "execution_count": null,
   "id": "bfb5b5cf-2732-455e-b067-6253788a722f",
   "metadata": {},
   "outputs": [],
   "source": []
  }
 ],
 "metadata": {
  "kernelspec": {
   "display_name": "Python 3 (ipykernel)",
   "language": "python",
   "name": "python3"
  },
  "language_info": {
   "codemirror_mode": {
    "name": "ipython",
    "version": 3
   },
   "file_extension": ".py",
   "mimetype": "text/x-python",
   "name": "python",
   "nbconvert_exporter": "python",
   "pygments_lexer": "ipython3",
   "version": "3.10.15"
  }
 },
 "nbformat": 4,
 "nbformat_minor": 5
}
