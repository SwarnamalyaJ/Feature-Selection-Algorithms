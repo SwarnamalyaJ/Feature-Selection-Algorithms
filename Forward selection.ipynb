{
 "cells": [
  {
   "cell_type": "code",
   "execution_count": 1,
   "id": "06c41763-ed08-44e1-b286-bf644a0ac192",
   "metadata": {},
   "outputs": [],
   "source": [
    "import pandas as pd\n",
    "from sklearn.model_selection import train_test_split\n",
    "from sklearn.preprocessing import StandardScaler\n",
    "from sklearn.feature_selection import SequentialFeatureSelector\n",
    "from sklearn.linear_model import LogisticRegression\n",
    "from sklearn.metrics import accuracy_score, classification_report, confusion_matrix"
   ]
  },
  {
   "cell_type": "code",
   "execution_count": 2,
   "id": "9f8322ce-1403-4342-b466-cccb085c9609",
   "metadata": {},
   "outputs": [],
   "source": [
    "# Function to split and scale data\n",
    "def split_scalar(indep_X, dep_Y):\n",
    "    X_train, X_test, y_train, y_test = train_test_split(indep_X, dep_Y, test_size=0.25, random_state=0)\n",
    "    sc = StandardScaler()\n",
    "    X_train = sc.fit_transform(X_train)\n",
    "    X_test = sc.transform(X_test)\n",
    "    return X_train, X_test, y_train, y_test"
   ]
  },
  {
   "cell_type": "code",
   "execution_count": 3,
   "id": "fc40433d-e9a0-4dce-bae1-6e2db327cafd",
   "metadata": {},
   "outputs": [],
   "source": [
    "# Logistic Regression model and performance evaluation function\n",
    "def logistic(X_train, y_train, X_test):       \n",
    "    classifier = LogisticRegression(random_state=0)\n",
    "    classifier.fit(X_train, y_train)\n",
    "    \n",
    "    # Predictions and metrics\n",
    "    y_pred = classifier.predict(X_test)\n",
    "    Accuracy = accuracy_score(y_test, y_pred)\n",
    "    report = classification_report(y_test, y_pred)\n",
    "    cm = confusion_matrix(y_test, y_pred)\n",
    "    \n",
    "    return classifier, Accuracy, report, X_test, y_test, cm"
   ]
  },
  {
   "cell_type": "code",
   "execution_count": 4,
   "id": "8d76f495-e44d-4ef1-b574-84c6416f6e50",
   "metadata": {},
   "outputs": [],
   "source": [
    "# Forward selection function using SequentialFeatureSelector\n",
    "def forward_selection(indep_X, dep_Y, n):\n",
    "    logistic_model = LogisticRegression(solver='saga', max_iter=1000)\n",
    "    \n",
    "    fs = SequentialFeatureSelector(estimator=logistic_model, n_features_to_select=n, direction='forward', scoring='accuracy', cv=5, n_jobs=-1)\n",
    "    \n",
    "    fs.fit(indep_X, dep_Y)\n",
    "    X_new = fs.transform(indep_X)\n",
    "    \n",
    "    selected_features = indep_X.columns[fs.get_support()]\n",
    "    \n",
    "    return X_new, selected_features"
   ]
  },
  {
   "cell_type": "code",
   "execution_count": 5,
   "id": "d7ec60e7-88bf-41ea-84b9-b863f545e685",
   "metadata": {},
   "outputs": [],
   "source": [
    "# Read and prepare dataset\n",
    "dataset1 = pd.read_csv(\"prep.csv\", index_col=None)\n",
    "df2 = pd.get_dummies(dataset1, drop_first=True)\n",
    "indep_X = df2.drop('classification_yes', axis=1)\n",
    "dep_Y = df2['classification_yes']"
   ]
  },
  {
   "cell_type": "code",
   "execution_count": 6,
   "id": "ace44d2d-19c3-4219-929f-8c7c20b4889f",
   "metadata": {},
   "outputs": [
    {
     "data": {
      "text/plain": [
       "Index(['al', 'hrmo', 'rc', 'sg_c', 'sg_d'], dtype='object')"
      ]
     },
     "execution_count": 6,
     "metadata": {},
     "output_type": "execute_result"
    }
   ],
   "source": [
    "# Apply forward selection\n",
    "n_features = 5  # Example: Select top 5 features\n",
    "X_new, selected_features = forward_selection(indep_X, dep_Y, n_features)\n",
    "selected_features"
   ]
  },
  {
   "cell_type": "code",
   "execution_count": 7,
   "id": "5610567e-9c4e-4dcb-9aae-8ca41aa43259",
   "metadata": {},
   "outputs": [],
   "source": [
    "# Split data and apply scaling\n",
    "X_train, X_test, y_train, y_test = split_scalar(X_new, dep_Y)"
   ]
  },
  {
   "cell_type": "code",
   "execution_count": 8,
   "id": "294679ce-3ec9-4a2e-a5e7-4d44db4c6f34",
   "metadata": {},
   "outputs": [],
   "source": [
    "# Train the logistic model and evaluate\n",
    "classifier, Accuracy, report, X_test, y_test, cm = logistic(X_train, y_train, X_test)"
   ]
  },
  {
   "cell_type": "code",
   "execution_count": 9,
   "id": "3ca9ebca-c69b-46cd-b943-d374a7fe02b4",
   "metadata": {},
   "outputs": [],
   "source": [
    "acclog = [Accuracy]"
   ]
  },
  {
   "cell_type": "code",
   "execution_count": 13,
   "id": "32485ef3-3afc-41d4-bffd-efec0f3284a8",
   "metadata": {},
   "outputs": [
    {
     "data": {
      "text/plain": [
       "[0.97]"
      ]
     },
     "execution_count": 13,
     "metadata": {},
     "output_type": "execute_result"
    }
   ],
   "source": [
    "acclog"
   ]
  },
  {
   "cell_type": "code",
   "execution_count": null,
   "id": "cea92bb0-93fa-4a28-962e-1b1786cfc3d4",
   "metadata": {},
   "outputs": [],
   "source": []
  }
 ],
 "metadata": {
  "kernelspec": {
   "display_name": "Python 3 (ipykernel)",
   "language": "python",
   "name": "python3"
  },
  "language_info": {
   "codemirror_mode": {
    "name": "ipython",
    "version": 3
   },
   "file_extension": ".py",
   "mimetype": "text/x-python",
   "name": "python",
   "nbconvert_exporter": "python",
   "pygments_lexer": "ipython3",
   "version": "3.10.15"
  }
 },
 "nbformat": 4,
 "nbformat_minor": 5
}
