{
 "cells": [
  {
   "cell_type": "code",
   "execution_count": 1,
   "id": "4527b21a-fdcc-44d9-a5e9-634d02136b25",
   "metadata": {},
   "outputs": [],
   "source": [
    "import pandas as pd\n",
    "from sklearn.model_selection import train_test_split\n",
    "from sklearn.preprocessing import StandardScaler\n",
    "from sklearn.feature_selection import SequentialFeatureSelector\n",
    "from sklearn.linear_model import LogisticRegression\n",
    "from sklearn.metrics import accuracy_score, classification_report, confusion_matrix"
   ]
  },
  {
   "cell_type": "code",
   "execution_count": 2,
   "id": "d62e27f8-36ba-4a60-99bf-b8ce8abd75a2",
   "metadata": {},
   "outputs": [],
   "source": [
    "# Function to split and scale data\n",
    "def split_scalar(indep_X, dep_Y):\n",
    "    X_train, X_test, y_train, y_test = train_test_split(indep_X, dep_Y, test_size=0.25, random_state=0)\n",
    "    sc = StandardScaler()\n",
    "    X_train = sc.fit_transform(X_train)\n",
    "    X_test = sc.transform(X_test)\n",
    "    return X_train, X_test, y_train, y_test"
   ]
  },
  {
   "cell_type": "code",
   "execution_count": 5,
   "id": "65652643-73f8-4670-94de-856d75bc4809",
   "metadata": {},
   "outputs": [],
   "source": [
    "# Logistic Regression model and performance evaluation function\n",
    "def logistic(X_train, y_train, X_test):       \n",
    "    classifier = LogisticRegression(random_state=0)\n",
    "    classifier.fit(X_train, y_train)\n",
    "    # Predictions and metrics\n",
    "    y_pred = classifier.predict(X_test)\n",
    "    Accuracy = accuracy_score(y_test, y_pred)\n",
    "    report = classification_report(y_test, y_pred)\n",
    "    cm = confusion_matrix(y_test, y_pred)\n",
    "    \n",
    "    return classifier, Accuracy, report, X_test, y_test, cm"
   ]
  },
  {
   "cell_type": "code",
   "execution_count": 6,
   "id": "70db9960-c965-4148-8fdc-410a36aa8c9a",
   "metadata": {},
   "outputs": [],
   "source": [
    "# Backward selection function using SequentialFeatureSelector\n",
    "def backward_selection(indep_X, dep_Y, n):\n",
    "    logistic_model = LogisticRegression(solver='saga', max_iter=1000)\n",
    "    \n",
    "    fs = SequentialFeatureSelector(estimator=logistic_model, n_features_to_select=n, direction='backward', scoring='accuracy', cv=5, n_jobs=-1)\n",
    "    \n",
    "    fs.fit(indep_X, dep_Y)\n",
    "    X_new = fs.transform(indep_X)\n",
    "    \n",
    "    selected_features = indep_X.columns[fs.get_support()]\n",
    "    \n",
    "    return X_new, selected_features"
   ]
  },
  {
   "cell_type": "code",
   "execution_count": 7,
   "id": "da3316b4-7a6f-4882-ab27-e27ee513a43e",
   "metadata": {},
   "outputs": [],
   "source": [
    "# Read and prepare dataset\n",
    "dataset1 = pd.read_csv(\"prep.csv\", index_col=None)\n",
    "df2 = pd.get_dummies(dataset1, drop_first=True)\n",
    "indep_X = df2.drop('classification_yes', axis=1)\n",
    "dep_Y = df2['classification_yes']"
   ]
  },
  {
   "cell_type": "code",
   "execution_count": 9,
   "id": "39cdc171-c839-4f3c-a63c-2edd38fe4ef7",
   "metadata": {},
   "outputs": [
    {
     "data": {
      "text/plain": [
       "Index(['al', 'sc', 'sod', 'hrmo', 'pcv'], dtype='object')"
      ]
     },
     "execution_count": 9,
     "metadata": {},
     "output_type": "execute_result"
    }
   ],
   "source": [
    "# Apply backward selection\n",
    "n_features = 5  \n",
    "X_new, selected_features = backward_selection(indep_X, dep_Y, n_features)\n",
    "selected_features"
   ]
  },
  {
   "cell_type": "code",
   "execution_count": 10,
   "id": "4c425db5-7eb8-4030-b96c-40251a47c8a6",
   "metadata": {},
   "outputs": [],
   "source": [
    "# Split data and apply scaling\n",
    "X_train, X_test, y_train, y_test = split_scalar(X_new, dep_Y)"
   ]
  },
  {
   "cell_type": "code",
   "execution_count": 11,
   "id": "7196d748-1f2a-4092-9b01-b182e4fc9dab",
   "metadata": {},
   "outputs": [],
   "source": [
    "# Train the logistic model and evaluate\n",
    "classifier, Accuracy, report, X_test, y_test, cm = logistic(X_train, y_train, X_test)"
   ]
  },
  {
   "cell_type": "code",
   "execution_count": 12,
   "id": "c542f84c-e9af-4726-9fa0-e4134887212e",
   "metadata": {},
   "outputs": [],
   "source": [
    "acclog = [Accuracy]"
   ]
  },
  {
   "cell_type": "code",
   "execution_count": 13,
   "id": "801bab91-d974-4781-b6c8-a74046bd9087",
   "metadata": {},
   "outputs": [
    {
     "data": {
      "text/plain": [
       "[0.98]"
      ]
     },
     "execution_count": 13,
     "metadata": {},
     "output_type": "execute_result"
    }
   ],
   "source": [
    "acclog"
   ]
  },
  {
   "cell_type": "code",
   "execution_count": null,
   "id": "9e859633-787c-4bd1-b885-196a1f411d4d",
   "metadata": {},
   "outputs": [],
   "source": []
  }
 ],
 "metadata": {
  "kernelspec": {
   "display_name": "Python 3 (ipykernel)",
   "language": "python",
   "name": "python3"
  },
  "language_info": {
   "codemirror_mode": {
    "name": "ipython",
    "version": 3
   },
   "file_extension": ".py",
   "mimetype": "text/x-python",
   "name": "python",
   "nbconvert_exporter": "python",
   "pygments_lexer": "ipython3",
   "version": "3.10.15"
  }
 },
 "nbformat": 4,
 "nbformat_minor": 5
}
