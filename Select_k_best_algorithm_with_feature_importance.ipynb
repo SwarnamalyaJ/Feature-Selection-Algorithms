{
 "cells": [
  {
   "cell_type": "code",
   "execution_count": 2,
   "id": "60148353-06f0-4a79-b9b8-9db3cba31add",
   "metadata": {},
   "outputs": [],
   "source": [
    "import pandas as pd\n",
    "from sklearn.model_selection import train_test_split \n",
    "import time\n",
    "import numpy as np\n",
    "from sklearn.preprocessing import StandardScaler\n",
    "from sklearn.feature_selection import SelectKBest\n",
    "from sklearn.feature_selection import chi2\n",
    "from sklearn.feature_selection import RFE\n",
    "from sklearn.linear_model import LogisticRegression\n",
    "import pickle\n",
    "import matplotlib.pyplot as plt"
   ]
  },
  {
   "cell_type": "code",
   "execution_count": 3,
   "id": "e8e135e6-a8cf-41d9-9c5b-bda57a051e39",
   "metadata": {},
   "outputs": [],
   "source": [
    "def selectkbest(indep_X, dep_Y, n):\n",
    "    # Initialize SelectKBest with the chi-squared score function and desired number of features (k=n)\n",
    "    test = SelectKBest(score_func=chi2, k=n)\n",
    "    \n",
    "    # Fit SelectKBest using independent variables (indep_X) and dependent variable (dep_Y)\n",
    "    fit1 = test.fit(indep_X, dep_Y)\n",
    "    \n",
    "    # Transform the independent variables to select the top k features\n",
    "    selectk_features = fit1.transform(indep_X)\n",
    "    \n",
    "    # Return the selected top k features\n",
    "    return selectk_features\n"
   ]
  },
  {
   "cell_type": "code",
   "execution_count": 4,
   "id": "5b86c8ed-14e2-4985-91da-32beeb657bae",
   "metadata": {},
   "outputs": [],
   "source": [
    "#Standard scalar code\n",
    "def split_scalar(indep_X,dep_Y):\n",
    "        X_train, X_test, y_train, y_test = train_test_split(indep_X, dep_Y, test_size = 0.25, random_state = 0)\n",
    "        sc = StandardScaler()\n",
    "        X_train = sc.fit_transform(X_train)\n",
    "        X_test = sc.transform(X_test)    \n",
    "        return X_train, X_test, y_train, y_test\n",
    "    "
   ]
  },
  {
   "cell_type": "code",
   "execution_count": 5,
   "id": "1bbc7e66-f1a0-48f6-b0c6-2e8936c94bd8",
   "metadata": {},
   "outputs": [],
   "source": [
    "#Classification codes\n",
    "def cm_prediction(classifier,X_test):\n",
    "     y_pred = classifier.predict(X_test)\n",
    "        \n",
    "        # Making the Confusion Matrix\n",
    "     from sklearn.metrics import confusion_matrix\n",
    "     cm = confusion_matrix(y_test, y_pred)\n",
    "        \n",
    "     from sklearn.metrics import accuracy_score \n",
    "     from sklearn.metrics import classification_report \n",
    "        #from sklearn.metrics import confusion_matrix\n",
    "        #cm = confusion_matrix(y_test, y_pred)\n",
    "        \n",
    "     Accuracy=accuracy_score(y_test, y_pred )\n",
    "        \n",
    "     report=classification_report(y_test, y_pred)\n",
    "     return  classifier,Accuracy,report,X_test,y_test,cm\n"
   ]
  },
  {
   "cell_type": "code",
   "execution_count": 6,
   "id": "06c6dc49-dfba-4827-b6a2-c6968bfca5fe",
   "metadata": {},
   "outputs": [],
   "source": [
    "def logistic(X_train,y_train,X_test):       \n",
    "        # Fitting K-NN to the Training set\n",
    "        from sklearn.linear_model import LogisticRegression\n",
    "        classifier = LogisticRegression(random_state = 0)\n",
    "        classifier.fit(X_train, y_train)\n",
    "        classifier,Accuracy,report,X_test,y_test,cm=cm_prediction(classifier,X_test)\n",
    "        return  classifier,Accuracy,report,X_test,y_test,cm      "
   ]
  },
  {
   "cell_type": "code",
   "execution_count": 7,
   "id": "03c9e433-ee32-42bc-9342-a00c75379dbf",
   "metadata": {},
   "outputs": [],
   "source": [
    "def svm_linear(X_train,y_train,X_test):\n",
    "                \n",
    "        from sklearn.svm import SVC\n",
    "        classifier = SVC(kernel = 'linear', random_state = 0)\n",
    "        classifier.fit(X_train, y_train)\n",
    "        classifier,Accuracy,report,X_test,y_test,cm=cm_prediction(classifier,X_test)\n",
    "        return  classifier,Accuracy,report,X_test,y_test,cm"
   ]
  },
  {
   "cell_type": "code",
   "execution_count": 8,
   "id": "2fa9a7fa-9233-4221-86c4-8e0d00dd6621",
   "metadata": {},
   "outputs": [],
   "source": [
    "def svm_NL(X_train,y_train,X_test):\n",
    "                \n",
    "        from sklearn.svm import SVC\n",
    "        classifier = SVC(kernel = 'rbf', random_state = 0)\n",
    "        classifier.fit(X_train, y_train)\n",
    "        classifier,Accuracy,report,X_test,y_test,cm=cm_prediction(classifier,X_test)\n",
    "        return  classifier,Accuracy,report,X_test,y_test,cm"
   ]
  },
  {
   "cell_type": "code",
   "execution_count": 9,
   "id": "d2f4fd9a-2201-42ed-88fe-36cab27c67ab",
   "metadata": {},
   "outputs": [],
   "source": [
    "def Navie(X_train,y_train,X_test):       \n",
    "        # Fitting K-NN to the Training set\n",
    "        from sklearn.naive_bayes import GaussianNB\n",
    "        classifier = GaussianNB()\n",
    "        classifier.fit(X_train, y_train)\n",
    "        classifier,Accuracy,report,X_test,y_test,cm=cm_prediction(classifier,X_test)\n",
    "        return  classifier,Accuracy,report,X_test,y_test,cm"
   ]
  },
  {
   "cell_type": "code",
   "execution_count": 10,
   "id": "8ceb4b13-7106-4baf-965f-d67e1679a162",
   "metadata": {},
   "outputs": [],
   "source": [
    "def knn(X_train,y_train,X_test):\n",
    "           \n",
    "        # Fitting K-NN to the Training set\n",
    "        from sklearn.neighbors import KNeighborsClassifier\n",
    "        classifier = KNeighborsClassifier(n_neighbors = 5, metric = 'minkowski', p = 2)\n",
    "        classifier.fit(X_train, y_train)\n",
    "        classifier,Accuracy,report,X_test,y_test,cm=cm_prediction(classifier,X_test)\n",
    "        return  classifier,Accuracy,report,X_test,y_test,cm"
   ]
  },
  {
   "cell_type": "code",
   "execution_count": 11,
   "id": "160e223f-0601-4c6e-bcb2-9c2ab1520b3b",
   "metadata": {},
   "outputs": [],
   "source": [
    "def Decision(X_train,y_train,X_test):\n",
    "        \n",
    "        # Fitting K-NN to the Training set\n",
    "        from sklearn.tree import DecisionTreeClassifier\n",
    "        classifier = DecisionTreeClassifier(criterion = 'entropy', random_state = 0)\n",
    "        classifier.fit(X_train, y_train)\n",
    "        classifier,Accuracy,report,X_test,y_test,cm=cm_prediction(classifier,X_test)\n",
    "        return  classifier,Accuracy,report,X_test,y_test,cm "
   ]
  },
  {
   "cell_type": "code",
   "execution_count": 12,
   "id": "11026edb-aa74-4658-a403-5a6626e42211",
   "metadata": {},
   "outputs": [],
   "source": [
    "def random(X_train, y_train, X_test):\n",
    "    from sklearn.ensemble import RandomForestClassifier\n",
    "    classifier = RandomForestClassifier(n_estimators=10, criterion='entropy', random_state=0)\n",
    "    classifier.fit(X_train, y_train)\n",
    "    \n",
    "    # Correct attribute for feature importances\n",
    "    importances = classifier.feature_importances_\n",
    "    feature_importances = pd.Series(importances, index=X_train.columns)\n",
    "    # Assuming cm_prediction is defined to return these variables\n",
    "    classifier, Accuracy, report, X_test, y_test, cm = cm_prediction(classifier, X_test)\n",
    "    return classifier, Accuracy, report, X_test, y_test, cm"
   ]
  },
  {
   "cell_type": "code",
   "execution_count": 13,
   "id": "f6beb2e5-2f4d-46b5-a00d-153e1830f18b",
   "metadata": {},
   "outputs": [],
   "source": [
    "def selectk_Classification(acclog, accsvml, accsvmnl, accknn, accnav, accdes, accrf):\n",
    "    # Create the DataFrame\n",
    "    dataframe = pd.DataFrame(index=['ChiSquare'], columns=['Logistic', 'SVMl', 'SVMnl', 'KNN', 'Navie', 'Decision', 'Random'])\n",
    "    \n",
    "    # Ensure we only iterate up to the length of the shortest list\n",
    "    min_length = min(len(acclog), len(accsvml), len(accsvmnl), len(accknn), len(accnav), len(accdes), len(accrf))\n",
    "    \n",
    "    # Populate the DataFrame\n",
    "    for number in range(min_length):\n",
    "        dataframe.loc['ChiSquare', 'Logistic'] = acclog[number]\n",
    "        dataframe.loc['ChiSquare', 'SVMl'] = accsvml[number]\n",
    "        dataframe.loc['ChiSquare', 'SVMnl'] = accsvmnl[number]\n",
    "        dataframe.loc['ChiSquare', 'KNN'] = accknn[number]\n",
    "        dataframe.loc['ChiSquare', 'Navie'] = accnav[number]\n",
    "        dataframe.loc['ChiSquare', 'Decision'] = accdes[number]\n",
    "        dataframe.loc['ChiSquare', 'Random'] = accrf[number]\n",
    "    \n",
    "    return dataframe"
   ]
  },
  {
   "cell_type": "code",
   "execution_count": 14,
   "id": "52343e7f-c143-4681-9e42-8b46f64bdee1",
   "metadata": {},
   "outputs": [],
   "source": [
    "dataset1=pd.read_csv(\"prep.csv\",index_col=None)\n",
    "\n",
    "df2=dataset1"
   ]
  },
  {
   "cell_type": "code",
   "execution_count": 15,
   "id": "f9e7597e-a2ff-4230-8514-e119e054a95c",
   "metadata": {},
   "outputs": [],
   "source": [
    "df2 = pd.get_dummies(df2, drop_first=True)"
   ]
  },
  {
   "cell_type": "code",
   "execution_count": 16,
   "id": "9b6b7311-d42e-4cb6-b8d5-b57ce05a49b9",
   "metadata": {},
   "outputs": [],
   "source": [
    "indep_x=df2.drop('classification_yes',axis=1)\n",
    "dep_Y=df2['classification_yes']"
   ]
  },
  {
   "cell_type": "code",
   "execution_count": 17,
   "id": "fe1c4ce9-e53b-4be0-8f3a-e59263e36e4f",
   "metadata": {},
   "outputs": [],
   "source": [
    "kbest=selectkbest(indep_x,dep_Y,6) "
   ]
  },
  {
   "cell_type": "code",
   "execution_count": 18,
   "id": "656cfee8-dbbb-4610-98f6-61e137223501",
   "metadata": {},
   "outputs": [],
   "source": [
    "\n",
    "acclog=[]\n",
    "accsvml=[]\n",
    "accsvmnl=[]\n",
    "accknn=[]\n",
    "accnav=[]\n",
    "accdes=[]\n",
    "accrf=[]\n"
   ]
  },
  {
   "cell_type": "code",
   "execution_count": 19,
   "id": "a70025e5-c678-4cf1-92f1-cc29a9a6d380",
   "metadata": {},
   "outputs": [
    {
     "data": {
      "text/plain": [
       "array([[3.00000000e+00, 1.48112676e+02, 5.74821053e+01, 3.07735602e+00,\n",
       "        3.88689024e+01, 8.40819113e+03],\n",
       "       [2.00000000e+00, 1.48112676e+02, 2.20000000e+01, 7.00000000e-01,\n",
       "        3.40000000e+01, 1.23000000e+04],\n",
       "       [1.00000000e+00, 9.90000000e+01, 2.30000000e+01, 6.00000000e-01,\n",
       "        3.40000000e+01, 8.40819113e+03],\n",
       "       ...,\n",
       "       [3.00000000e+00, 1.10000000e+02, 1.15000000e+02, 6.00000000e+00,\n",
       "        2.60000000e+01, 9.20000000e+03],\n",
       "       [0.00000000e+00, 2.07000000e+02, 8.00000000e+01, 6.80000000e+00,\n",
       "        3.88689024e+01, 8.40819113e+03],\n",
       "       [0.00000000e+00, 1.00000000e+02, 4.90000000e+01, 1.00000000e+00,\n",
       "        5.30000000e+01, 8.50000000e+03]])"
      ]
     },
     "execution_count": 19,
     "metadata": {},
     "output_type": "execute_result"
    }
   ],
   "source": [
    "kbest"
   ]
  },
  {
   "cell_type": "code",
   "execution_count": 20,
   "id": "29bf2fab-f8f3-49ec-8f98-e8d9a72cf684",
   "metadata": {},
   "outputs": [],
   "source": [
    "X_train, X_test, y_train, y_test=split_scalar(kbest,dep_Y) "
   ]
  },
  {
   "cell_type": "code",
   "execution_count": 21,
   "id": "b6042e47-84c4-4733-b805-785719db0e51",
   "metadata": {},
   "outputs": [],
   "source": [
    "classifier,Accuracy,report,X_test,y_test,cm=logistic(X_train,y_train,X_test)\n",
    "acclog.append(Accuracy)"
   ]
  },
  {
   "cell_type": "code",
   "execution_count": 22,
   "id": "e0153569-6eba-4c7e-9e26-020550f44813",
   "metadata": {},
   "outputs": [
    {
     "ename": "AttributeError",
     "evalue": "'numpy.ndarray' object has no attribute 'columns'",
     "output_type": "error",
     "traceback": [
      "\u001b[1;31m---------------------------------------------------------------------------\u001b[0m",
      "\u001b[1;31mAttributeError\u001b[0m                            Traceback (most recent call last)",
      "Cell \u001b[1;32mIn[22], line 16\u001b[0m\n\u001b[0;32m     13\u001b[0m classifier,Accuracy,report,X_test,y_test,cm\u001b[38;5;241m=\u001b[39mDecision(X_train,y_train,X_test)  \n\u001b[0;32m     14\u001b[0m accdes\u001b[38;5;241m.\u001b[39mappend(Accuracy)\n\u001b[1;32m---> 16\u001b[0m classifier,Accuracy,report,X_test,y_test,cm\u001b[38;5;241m=\u001b[39m\u001b[43mrandom\u001b[49m\u001b[43m(\u001b[49m\u001b[43mX_train\u001b[49m\u001b[43m,\u001b[49m\u001b[43my_train\u001b[49m\u001b[43m,\u001b[49m\u001b[43mX_test\u001b[49m\u001b[43m)\u001b[49m  \n\u001b[0;32m     17\u001b[0m accrf\u001b[38;5;241m.\u001b[39mappend(Accuracy)\n",
      "Cell \u001b[1;32mIn[12], line 8\u001b[0m, in \u001b[0;36mrandom\u001b[1;34m(X_train, y_train, X_test)\u001b[0m\n\u001b[0;32m      6\u001b[0m \u001b[38;5;66;03m# Correct attribute for feature importances\u001b[39;00m\n\u001b[0;32m      7\u001b[0m importances \u001b[38;5;241m=\u001b[39m classifier\u001b[38;5;241m.\u001b[39mfeature_importances_\n\u001b[1;32m----> 8\u001b[0m feature_importances \u001b[38;5;241m=\u001b[39m pd\u001b[38;5;241m.\u001b[39mSeries(importances, index\u001b[38;5;241m=\u001b[39m\u001b[43mX_train\u001b[49m\u001b[38;5;241;43m.\u001b[39;49m\u001b[43mcolumns\u001b[49m)\n\u001b[0;32m      9\u001b[0m \u001b[38;5;66;03m# Assuming cm_prediction is defined to return these variables\u001b[39;00m\n\u001b[0;32m     10\u001b[0m classifier, Accuracy, report, X_test, y_test, cm \u001b[38;5;241m=\u001b[39m cm_prediction(classifier, X_test)\n",
      "\u001b[1;31mAttributeError\u001b[0m: 'numpy.ndarray' object has no attribute 'columns'"
     ]
    }
   ],
   "source": [
    "classifier,Accuracy,report,X_test,y_test,cm=svm_linear(X_train,y_train,X_test)  \n",
    "accsvml.append(Accuracy)\n",
    "    \n",
    "classifier,Accuracy,report,X_test,y_test,cm=svm_NL(X_train,y_train,X_test)  \n",
    "accsvmnl.append(Accuracy)\n",
    "    \n",
    "classifier,Accuracy,report,X_test,y_test,cm=knn(X_train,y_train,X_test)  \n",
    "accknn.append(Accuracy)\n",
    "    \n",
    "classifier,Accuracy,report,X_test,y_test,cm=Navie(X_train,y_train,X_test)  \n",
    "accnav.append(Accuracy)\n",
    "    \n",
    "classifier,Accuracy,report,X_test,y_test,cm=Decision(X_train,y_train,X_test)  \n",
    "accdes.append(Accuracy)\n",
    "    \n",
    "classifier,Accuracy,report,X_test,y_test,cm=random(X_train,y_train,X_test)  \n",
    "accrf.append(Accuracy)"
   ]
  },
  {
   "cell_type": "code",
   "execution_count": null,
   "id": "2ed2032a-7227-4997-8707-71aebcf660f1",
   "metadata": {},
   "outputs": [],
   "source": [
    "result=selectk_Classification(acclog,accsvml,accsvmnl,accknn,accnav,accdes,accrf)"
   ]
  },
  {
   "cell_type": "code",
   "execution_count": null,
   "id": "661e61cb-39be-4e35-87ac-802cd315debd",
   "metadata": {},
   "outputs": [],
   "source": [
    "result\n"
   ]
  },
  {
   "cell_type": "code",
   "execution_count": null,
   "id": "4bb7bb98-c78e-4024-906b-5cfa00a26f41",
   "metadata": {},
   "outputs": [],
   "source": []
  }
 ],
 "metadata": {
  "kernelspec": {
   "display_name": "Python 3 (ipykernel)",
   "language": "python",
   "name": "python3"
  },
  "language_info": {
   "codemirror_mode": {
    "name": "ipython",
    "version": 3
   },
   "file_extension": ".py",
   "mimetype": "text/x-python",
   "name": "python",
   "nbconvert_exporter": "python",
   "pygments_lexer": "ipython3",
   "version": "3.10.15"
  }
 },
 "nbformat": 4,
 "nbformat_minor": 5
}
